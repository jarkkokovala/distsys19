{
 "cells": [
  {
   "cell_type": "markdown",
   "metadata": {},
   "source": [
    "# Between nodes"
   ]
  },
  {
   "cell_type": "code",
   "execution_count": 107,
   "metadata": {},
   "outputs": [
    {
     "data": {
      "text/html": [
       "<div>\n",
       "<style scoped>\n",
       "    .dataframe tbody tr th:only-of-type {\n",
       "        vertical-align: middle;\n",
       "    }\n",
       "\n",
       "    .dataframe tbody tr th {\n",
       "        vertical-align: top;\n",
       "    }\n",
       "\n",
       "    .dataframe thead th {\n",
       "        text-align: right;\n",
       "    }\n",
       "</style>\n",
       "<table border=\"1\" class=\"dataframe\">\n",
       "  <thead>\n",
       "    <tr style=\"text-align: right;\">\n",
       "      <th>Method</th>\n",
       "      <th>0 step</th>\n",
       "      <th>1 step</th>\n",
       "      <th>2 step</th>\n",
       "    </tr>\n",
       "    <tr>\n",
       "      <th>Id</th>\n",
       "      <th></th>\n",
       "      <th></th>\n",
       "      <th></th>\n",
       "    </tr>\n",
       "  </thead>\n",
       "  <tbody>\n",
       "    <tr>\n",
       "      <td>2019-11-20 09:06:21.720720</td>\n",
       "      <td>0.0</td>\n",
       "      <td>2.481955</td>\n",
       "      <td>5.388917</td>\n",
       "    </tr>\n",
       "    <tr>\n",
       "      <td>2019-11-20 09:06:28.933955</td>\n",
       "      <td>0.0</td>\n",
       "      <td>2.597015</td>\n",
       "      <td>5.401449</td>\n",
       "    </tr>\n",
       "    <tr>\n",
       "      <td>2019-11-20 09:06:36.142227</td>\n",
       "      <td>0.0</td>\n",
       "      <td>2.465766</td>\n",
       "      <td>5.340151</td>\n",
       "    </tr>\n",
       "    <tr>\n",
       "      <td>2019-11-20 09:06:43.411038</td>\n",
       "      <td>0.0</td>\n",
       "      <td>2.515043</td>\n",
       "      <td>5.393263</td>\n",
       "    </tr>\n",
       "    <tr>\n",
       "      <td>2019-11-20 09:06:50.756400</td>\n",
       "      <td>0.0</td>\n",
       "      <td>2.525574</td>\n",
       "      <td>5.314126</td>\n",
       "    </tr>\n",
       "  </tbody>\n",
       "</table>\n",
       "</div>"
      ],
      "text/plain": [
       "Method                      0 step    1 step    2 step\n",
       "Id                                                    \n",
       "2019-11-20 09:06:21.720720     0.0  2.481955  5.388917\n",
       "2019-11-20 09:06:28.933955     0.0  2.597015  5.401449\n",
       "2019-11-20 09:06:36.142227     0.0  2.465766  5.340151\n",
       "2019-11-20 09:06:43.411038     0.0  2.515043  5.393263\n",
       "2019-11-20 09:06:50.756400     0.0  2.525574  5.314126"
      ]
     },
     "execution_count": 107,
     "metadata": {},
     "output_type": "execute_result"
    }
   ],
   "source": [
    "import pandas as pd\n",
    "import numpy as np\n",
    "import time\n",
    "\n",
    "def get_delta(row):\n",
    "    if (row['Method']=='send_file_to_filenode'):\n",
    "        return 0\n",
    "    t1 = row['Time']\n",
    "    t2 = row['Id']\n",
    "    t = t1-t2  # pandas._libs.tslibs.timedeltas.Timedelta\n",
    "    t = t.seconds * 1000000 + t.microseconds\n",
    "    return t/1000000\n",
    "\n",
    "#path = './data/mean_110ms_latency/50x10/'\n",
    "#path = './data/mean_110ms_latency/25x1000/'\n",
    "path = './data/mean_110ms_latency/25x100000/'\n",
    "path1 = path + 'nameNode.log'\n",
    "path2 = path + 'client.log'\n",
    "\n",
    "# Load name node data from csv file\n",
    "data1 = pd.read_csv(path1, delimiter=';', header=None, skiprows=2)\n",
    "data1.columns = ['LogTime', 'Time', 'Node', 'Method', 'Id'] \n",
    "data2 = pd.read_csv(path2, delimiter=';', header=None)\n",
    "data2.columns = ['LogTime', 'Time', 'Node', 'Method', 'Id'] \n",
    "data = pd.concat([data1, data2])\n",
    "\n",
    "\n",
    "# Manipulate\n",
    "data['Time'] =  pd.to_datetime(data['Time'])\n",
    "data['Id'] =  pd.to_datetime(data['Id'])\n",
    "data['Method'] = data.apply(lambda row: ('0 step' if row['Node'] == 'Client' else ('1 step' if row['Method'] == 'update_filelist' else '2 step')), axis=1)\n",
    "data = data.sort_values(['Id', 'Time'], ascending=[1, 1])\n",
    "data['Delta'] = data.apply(get_delta, axis=1)\n",
    "\n",
    "# Drop unnecessary columns\n",
    "data = data.drop(\"Time\", axis=1)\n",
    "data = data.drop(\"LogTime\", axis=1)\n",
    "\n",
    "# Pivot\n",
    "data = data.pivot(index='Id', columns='Method', values='Delta')\n",
    "data.head(5)"
   ]
  },
  {
   "cell_type": "code",
   "execution_count": 103,
   "metadata": {
    "scrolled": true
   },
   "outputs": [
    {
     "data": {
      "text/plain": [
       "count    25.000000\n",
       "mean      0.752929\n",
       "std       0.016871\n",
       "min       0.713856\n",
       "25%       0.745392\n",
       "50%       0.751155\n",
       "75%       0.757840\n",
       "max       0.792806\n",
       "Name: 1 step, dtype: float64"
      ]
     },
     "execution_count": 103,
     "metadata": {},
     "output_type": "execute_result"
    }
   ],
   "source": [
    "# First file list update\n",
    "data['1 step'].describe()"
   ]
  },
  {
   "cell_type": "code",
   "execution_count": 108,
   "metadata": {},
   "outputs": [
    {
     "data": {
      "text/plain": [
       "count    25.000000\n",
       "mean      5.409429\n",
       "std       0.055534\n",
       "min       5.314126\n",
       "25%       5.378177\n",
       "50%       5.403222\n",
       "75%       5.454978\n",
       "max       5.559336\n",
       "Name: 2 step, dtype: float64"
      ]
     },
     "execution_count": 108,
     "metadata": {},
     "output_type": "execute_result"
    }
   ],
   "source": [
    "# Second file list update\n",
    "data['2 step'].describe()"
   ]
  },
  {
   "cell_type": "markdown",
   "metadata": {},
   "source": [
    "# Inter arrival rate"
   ]
  },
  {
   "cell_type": "code",
   "execution_count": 121,
   "metadata": {},
   "outputs": [
    {
     "ename": "AttributeError",
     "evalue": "'Series' object has no attribute 'sort'",
     "output_type": "error",
     "traceback": [
      "\u001b[0;31m---------------------------------------------------------------------------\u001b[0m",
      "\u001b[0;31mAttributeError\u001b[0m                            Traceback (most recent call last)",
      "\u001b[0;32m<ipython-input-121-eebc760dec30>\u001b[0m in \u001b[0;36m<module>\u001b[0;34m\u001b[0m\n\u001b[1;32m     33\u001b[0m \u001b[0mdata\u001b[0m\u001b[0;34m.\u001b[0m\u001b[0mhead\u001b[0m\u001b[0;34m(\u001b[0m\u001b[0;36m5\u001b[0m\u001b[0;34m)\u001b[0m\u001b[0;34m\u001b[0m\u001b[0;34m\u001b[0m\u001b[0m\n\u001b[1;32m     34\u001b[0m \u001b[0;34m\u001b[0m\u001b[0m\n\u001b[0;32m---> 35\u001b[0;31m \u001b[0;34m(\u001b[0m\u001b[0mdata\u001b[0m\u001b[0;34m[\u001b[0m\u001b[0;34m'rupdate_filelist'\u001b[0m\u001b[0;34m]\u001b[0m\u001b[0;34m.\u001b[0m\u001b[0msort\u001b[0m\u001b[0;34m(\u001b[0m\u001b[0;34m[\u001b[0m\u001b[0;34m'rupdate_filelist'\u001b[0m\u001b[0;34m]\u001b[0m\u001b[0;34m)\u001b[0m\u001b[0;34m)\u001b[0m\u001b[0;34m.\u001b[0m\u001b[0mfoot\u001b[0m\u001b[0;34m(\u001b[0m\u001b[0;36m5\u001b[0m\u001b[0;34m)\u001b[0m\u001b[0;34m\u001b[0m\u001b[0;34m\u001b[0m\u001b[0m\n\u001b[0m",
      "\u001b[0;32m~/anaconda3/envs/twml/lib/python3.7/site-packages/pandas/core/generic.py\u001b[0m in \u001b[0;36m__getattr__\u001b[0;34m(self, name)\u001b[0m\n\u001b[1;32m   5177\u001b[0m             \u001b[0;32mif\u001b[0m \u001b[0mself\u001b[0m\u001b[0;34m.\u001b[0m\u001b[0m_info_axis\u001b[0m\u001b[0;34m.\u001b[0m\u001b[0m_can_hold_identifiers_and_holds_name\u001b[0m\u001b[0;34m(\u001b[0m\u001b[0mname\u001b[0m\u001b[0;34m)\u001b[0m\u001b[0;34m:\u001b[0m\u001b[0;34m\u001b[0m\u001b[0;34m\u001b[0m\u001b[0m\n\u001b[1;32m   5178\u001b[0m                 \u001b[0;32mreturn\u001b[0m \u001b[0mself\u001b[0m\u001b[0;34m[\u001b[0m\u001b[0mname\u001b[0m\u001b[0;34m]\u001b[0m\u001b[0;34m\u001b[0m\u001b[0;34m\u001b[0m\u001b[0m\n\u001b[0;32m-> 5179\u001b[0;31m             \u001b[0;32mreturn\u001b[0m \u001b[0mobject\u001b[0m\u001b[0;34m.\u001b[0m\u001b[0m__getattribute__\u001b[0m\u001b[0;34m(\u001b[0m\u001b[0mself\u001b[0m\u001b[0;34m,\u001b[0m \u001b[0mname\u001b[0m\u001b[0;34m)\u001b[0m\u001b[0;34m\u001b[0m\u001b[0;34m\u001b[0m\u001b[0m\n\u001b[0m\u001b[1;32m   5180\u001b[0m \u001b[0;34m\u001b[0m\u001b[0m\n\u001b[1;32m   5181\u001b[0m     \u001b[0;32mdef\u001b[0m \u001b[0m__setattr__\u001b[0m\u001b[0;34m(\u001b[0m\u001b[0mself\u001b[0m\u001b[0;34m,\u001b[0m \u001b[0mname\u001b[0m\u001b[0;34m,\u001b[0m \u001b[0mvalue\u001b[0m\u001b[0;34m)\u001b[0m\u001b[0;34m:\u001b[0m\u001b[0;34m\u001b[0m\u001b[0;34m\u001b[0m\u001b[0m\n",
      "\u001b[0;31mAttributeError\u001b[0m: 'Series' object has no attribute 'sort'"
     ]
    }
   ],
   "source": [
    "\n",
    "def get_delta(row):\n",
    "    if (pd.isnull(row['PrevTime'])):\n",
    "        return 0\n",
    "    t1 = row['Time']\n",
    "    t2 = row['PrevTime']\n",
    "    t = t1-t2  # pandas._libs.tslibs.timedeltas.Timedelta\n",
    "    t = (t.seconds * 1000000 + t.microseconds)/1000000\n",
    "    return t if t < 10 else 0  # Special case when method changes\n",
    "\n",
    "path = './data/mean_110ms_latency/25x1000/'\n",
    "path1 = path + 'nameNode.log'\n",
    "\n",
    "# We just need name node data\n",
    "data = pd.read_csv(path1, delimiter=';', header=None, skiprows=2)\n",
    "data.columns = ['LogTime', 'Time', 'Node', 'Method', 'Id'] \n",
    "\n",
    "# Manipulate\n",
    "data['Time'] =  pd.to_datetime(data['Time'])\n",
    "data['Id'] =  pd.to_datetime(data['Id'])\n",
    "\n",
    "# Now we need to sort by Method and then Time\n",
    "data = data.sort_values(['Method', 'Time'], ascending=[1, 1])\n",
    "data['PrevTime'] = data['Time'].shift()\n",
    "data['Delta'] = data.apply(get_delta, axis=1)\n",
    "\n",
    "# Drop unnecessary columns\n",
    "data = data.drop(\"Time\", axis=1)\n",
    "data = data.drop(\"LogTime\", axis=1)\n",
    "\n",
    "\n",
    "# Pivot\n",
    "data = data.pivot(index='Id', columns='Method', values='Delta')\n",
    "data.head(5)"
   ]
  },
  {
   "cell_type": "code",
   "execution_count": 126,
   "metadata": {},
   "outputs": [
    {
     "name": "stdout",
     "output_type": "stream",
     "text": [
      "Method                      rupdate_filelist  update_filelist\n",
      "Id                                                           \n",
      "2019-11-20 09:02:14.013464          0.000000         0.000000\n",
      "2019-11-20 09:02:54.374877          2.280142         2.310353\n",
      "2019-11-20 09:02:30.749025          2.283372         2.389394\n",
      "2019-11-20 09:02:23.637047          2.285331         2.364878\n",
      "2019-11-20 09:02:44.994247          2.297320         2.360958\n"
     ]
    }
   ],
   "source": [
    "# First file list update\n",
    "data['update_filelist'].describe()\n",
    "\n",
    "print(data.sort_values(['rupdate_filelist']).head(5))"
   ]
  },
  {
   "cell_type": "code",
   "execution_count": 120,
   "metadata": {
    "scrolled": true
   },
   "outputs": [
    {
     "data": {
      "text/plain": [
       "count    25.000000\n",
       "mean      2.274086\n",
       "std       0.476313\n",
       "min       0.000000\n",
       "25%       2.332645\n",
       "50%       2.380429\n",
       "75%       2.392749\n",
       "max       2.446791\n",
       "Name: rupdate_filelist, dtype: float64"
      ]
     },
     "execution_count": 120,
     "metadata": {},
     "output_type": "execute_result"
    }
   ],
   "source": [
    "# Second file list update\n",
    "data['rupdate_filelist'].describe()\n",
    "data.sort_values(['rupdate_filelist']).head(5)"
   ]
  },
  {
   "cell_type": "code",
   "execution_count": null,
   "metadata": {},
   "outputs": [],
   "source": []
  }
 ],
 "metadata": {
  "kernelspec": {
   "display_name": "Python 3",
   "language": "python",
   "name": "python3"
  },
  "language_info": {
   "codemirror_mode": {
    "name": "ipython",
    "version": 3
   },
   "file_extension": ".py",
   "mimetype": "text/x-python",
   "name": "python",
   "nbconvert_exporter": "python",
   "pygments_lexer": "ipython3",
   "version": "3.7.4"
  }
 },
 "nbformat": 4,
 "nbformat_minor": 1
}
