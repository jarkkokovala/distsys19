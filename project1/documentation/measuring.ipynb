{
 "cells": [
  {
   "cell_type": "markdown",
   "metadata": {},
   "source": [
    "# Between nodes"
   ]
  },
  {
   "cell_type": "code",
   "execution_count": 1,
   "metadata": {},
   "outputs": [
    {
     "data": {
      "text/html": [
       "<div>\n",
       "<style scoped>\n",
       "    .dataframe tbody tr th:only-of-type {\n",
       "        vertical-align: middle;\n",
       "    }\n",
       "\n",
       "    .dataframe tbody tr th {\n",
       "        vertical-align: top;\n",
       "    }\n",
       "\n",
       "    .dataframe thead th {\n",
       "        text-align: right;\n",
       "    }\n",
       "</style>\n",
       "<table border=\"1\" class=\"dataframe\">\n",
       "  <thead>\n",
       "    <tr style=\"text-align: right;\">\n",
       "      <th>Method</th>\n",
       "      <th>0 step</th>\n",
       "      <th>1 step</th>\n",
       "      <th>2 step</th>\n",
       "    </tr>\n",
       "    <tr>\n",
       "      <th>Id</th>\n",
       "      <th></th>\n",
       "      <th></th>\n",
       "      <th></th>\n",
       "    </tr>\n",
       "  </thead>\n",
       "  <tbody>\n",
       "    <tr>\n",
       "      <td>2019-11-20 09:06:21.720720</td>\n",
       "      <td>0.0</td>\n",
       "      <td>2.481955</td>\n",
       "      <td>5.388917</td>\n",
       "    </tr>\n",
       "    <tr>\n",
       "      <td>2019-11-20 09:06:28.933955</td>\n",
       "      <td>0.0</td>\n",
       "      <td>2.597015</td>\n",
       "      <td>5.401449</td>\n",
       "    </tr>\n",
       "    <tr>\n",
       "      <td>2019-11-20 09:06:36.142227</td>\n",
       "      <td>0.0</td>\n",
       "      <td>2.465766</td>\n",
       "      <td>5.340151</td>\n",
       "    </tr>\n",
       "    <tr>\n",
       "      <td>2019-11-20 09:06:43.411038</td>\n",
       "      <td>0.0</td>\n",
       "      <td>2.515043</td>\n",
       "      <td>5.393263</td>\n",
       "    </tr>\n",
       "    <tr>\n",
       "      <td>2019-11-20 09:06:50.756400</td>\n",
       "      <td>0.0</td>\n",
       "      <td>2.525574</td>\n",
       "      <td>5.314126</td>\n",
       "    </tr>\n",
       "  </tbody>\n",
       "</table>\n",
       "</div>"
      ],
      "text/plain": [
       "Method                      0 step    1 step    2 step\n",
       "Id                                                    \n",
       "2019-11-20 09:06:21.720720     0.0  2.481955  5.388917\n",
       "2019-11-20 09:06:28.933955     0.0  2.597015  5.401449\n",
       "2019-11-20 09:06:36.142227     0.0  2.465766  5.340151\n",
       "2019-11-20 09:06:43.411038     0.0  2.515043  5.393263\n",
       "2019-11-20 09:06:50.756400     0.0  2.525574  5.314126"
      ]
     },
     "execution_count": 1,
     "metadata": {},
     "output_type": "execute_result"
    }
   ],
   "source": [
    "import pandas as pd\n",
    "import numpy as np\n",
    "import time\n",
    "\n",
    "def get_delta(row):\n",
    "    if (row['Method']=='send_file_to_filenode'):\n",
    "        return 0\n",
    "    t1 = row['Time']\n",
    "    t2 = row['Id']\n",
    "    t = t1-t2  # pandas._libs.tslibs.timedeltas.Timedelta\n",
    "    t = t.seconds * 1000000 + t.microseconds\n",
    "    return t/1000000\n",
    "\n",
    "#path = './data/mean_110ms_latency/50x10/'\n",
    "#path = './data/mean_110ms_latency/25x1000/'\n",
    "path = './data/mean_110ms_latency/25x100000/'\n",
    "path1 = path + 'nameNode.log'\n",
    "path2 = path + 'client.log'\n",
    "\n",
    "# Load name node data from csv file\n",
    "data1 = pd.read_csv(path1, delimiter=';', header=None, skiprows=2)\n",
    "data1.columns = ['LogTime', 'Time', 'Node', 'Method', 'Id'] \n",
    "data2 = pd.read_csv(path2, delimiter=';', header=None)\n",
    "data2.columns = ['LogTime', 'Time', 'Node', 'Method', 'Id'] \n",
    "data = pd.concat([data1, data2])\n",
    "\n",
    "\n",
    "# Manipulate\n",
    "data['Time'] =  pd.to_datetime(data['Time'])\n",
    "data['Id'] =  pd.to_datetime(data['Id'])\n",
    "data['Method'] = data.apply(lambda row: ('0 step' if row['Node'] == 'Client' else ('1 step' if row['Method'] == 'update_filelist' else '2 step')), axis=1)\n",
    "data = data.sort_values(['Id', 'Time'], ascending=[1, 1])\n",
    "data['Delta'] = data.apply(get_delta, axis=1)\n",
    "\n",
    "# Drop unnecessary columns\n",
    "data = data.drop(\"Time\", axis=1)\n",
    "data = data.drop(\"LogTime\", axis=1)\n",
    "\n",
    "# Pivot\n",
    "data = data.pivot(index='Id', columns='Method', values='Delta')\n",
    "data.head(5)"
   ]
  },
  {
   "cell_type": "code",
   "execution_count": 2,
   "metadata": {
    "scrolled": true
   },
   "outputs": [
    {
     "data": {
      "text/plain": [
       "count    25.000000\n",
       "mean      2.530602\n",
       "std       0.046588\n",
       "min       2.464067\n",
       "25%       2.500503\n",
       "50%       2.531885\n",
       "75%       2.549729\n",
       "max       2.673954\n",
       "Name: 1 step, dtype: float64"
      ]
     },
     "execution_count": 2,
     "metadata": {},
     "output_type": "execute_result"
    }
   ],
   "source": [
    "# First file list update\n",
    "data['1 step'].describe()"
   ]
  },
  {
   "cell_type": "code",
   "execution_count": 3,
   "metadata": {},
   "outputs": [
    {
     "data": {
      "text/plain": [
       "count    25.000000\n",
       "mean      5.409429\n",
       "std       0.055534\n",
       "min       5.314126\n",
       "25%       5.378177\n",
       "50%       5.403222\n",
       "75%       5.454978\n",
       "max       5.559336\n",
       "Name: 2 step, dtype: float64"
      ]
     },
     "execution_count": 3,
     "metadata": {},
     "output_type": "execute_result"
    }
   ],
   "source": [
    "# Second file list update\n",
    "data['2 step'].describe()"
   ]
  },
  {
   "cell_type": "markdown",
   "metadata": {},
   "source": [
    "# Inter arrival rate"
   ]
  },
  {
   "cell_type": "code",
   "execution_count": 4,
   "metadata": {},
   "outputs": [
    {
     "data": {
      "text/html": [
       "<div>\n",
       "<style scoped>\n",
       "    .dataframe tbody tr th:only-of-type {\n",
       "        vertical-align: middle;\n",
       "    }\n",
       "\n",
       "    .dataframe tbody tr th {\n",
       "        vertical-align: top;\n",
       "    }\n",
       "\n",
       "    .dataframe thead th {\n",
       "        text-align: right;\n",
       "    }\n",
       "</style>\n",
       "<table border=\"1\" class=\"dataframe\">\n",
       "  <thead>\n",
       "    <tr style=\"text-align: right;\">\n",
       "      <th>Method</th>\n",
       "      <th>rupdate_filelist</th>\n",
       "      <th>update_filelist</th>\n",
       "    </tr>\n",
       "    <tr>\n",
       "      <th>Id</th>\n",
       "      <th></th>\n",
       "      <th></th>\n",
       "    </tr>\n",
       "  </thead>\n",
       "  <tbody>\n",
       "    <tr>\n",
       "      <td>2019-11-20 09:02:14.013464</td>\n",
       "      <td>0.000000</td>\n",
       "      <td>0.000000</td>\n",
       "    </tr>\n",
       "    <tr>\n",
       "      <td>2019-11-20 09:02:16.368776</td>\n",
       "      <td>2.388565</td>\n",
       "      <td>2.367866</td>\n",
       "    </tr>\n",
       "    <tr>\n",
       "      <td>2019-11-20 09:02:18.816217</td>\n",
       "      <td>2.443890</td>\n",
       "      <td>2.472921</td>\n",
       "    </tr>\n",
       "    <tr>\n",
       "      <td>2019-11-20 09:02:21.263157</td>\n",
       "      <td>2.446791</td>\n",
       "      <td>2.428145</td>\n",
       "    </tr>\n",
       "    <tr>\n",
       "      <td>2019-11-20 09:02:23.637047</td>\n",
       "      <td>2.285331</td>\n",
       "      <td>2.364878</td>\n",
       "    </tr>\n",
       "  </tbody>\n",
       "</table>\n",
       "</div>"
      ],
      "text/plain": [
       "Method                      rupdate_filelist  update_filelist\n",
       "Id                                                           \n",
       "2019-11-20 09:02:14.013464          0.000000         0.000000\n",
       "2019-11-20 09:02:16.368776          2.388565         2.367866\n",
       "2019-11-20 09:02:18.816217          2.443890         2.472921\n",
       "2019-11-20 09:02:21.263157          2.446791         2.428145\n",
       "2019-11-20 09:02:23.637047          2.285331         2.364878"
      ]
     },
     "execution_count": 4,
     "metadata": {},
     "output_type": "execute_result"
    }
   ],
   "source": [
    "\n",
    "def get_delta(row):\n",
    "    if (pd.isnull(row['PrevTime'])):\n",
    "        return 0\n",
    "    t1 = row['Time']\n",
    "    t2 = row['PrevTime']\n",
    "    t = t1-t2  # pandas._libs.tslibs.timedeltas.Timedelta\n",
    "    t = (t.seconds * 1000000 + t.microseconds)/1000000\n",
    "    return t if t < 10 else 0  # Special case when method changes\n",
    "\n",
    "path = './data/mean_110ms_latency/25x1000/'\n",
    "path1 = path + 'nameNode.log'\n",
    "\n",
    "# We just need name node data\n",
    "data = pd.read_csv(path1, delimiter=';', header=None, skiprows=2)\n",
    "data.columns = ['LogTime', 'Time', 'Node', 'Method', 'Id'] \n",
    "\n",
    "# Manipulate\n",
    "data['Time'] =  pd.to_datetime(data['Time'])\n",
    "data['Id'] =  pd.to_datetime(data['Id'])\n",
    "\n",
    "# Now we need to sort by Method and then Time\n",
    "data = data.sort_values(['Method', 'Time'], ascending=[1, 1])\n",
    "data['PrevTime'] = data['Time'].shift()\n",
    "data['Delta'] = data.apply(get_delta, axis=1)\n",
    "\n",
    "# Drop unnecessary columns\n",
    "data = data.drop(\"Time\", axis=1)\n",
    "data = data.drop(\"LogTime\", axis=1)\n",
    "\n",
    "\n",
    "# Pivot\n",
    "data = data.pivot(index='Id', columns='Method', values='Delta')\n",
    "data.head(5)"
   ]
  },
  {
   "cell_type": "code",
   "execution_count": 5,
   "metadata": {},
   "outputs": [
    {
     "name": "stdout",
     "output_type": "stream",
     "text": [
      "count    25.000000\n",
      "mean      2.276277\n",
      "std       0.476096\n",
      "min       0.000000\n",
      "25%       2.350835\n",
      "50%       2.365391\n",
      "75%       2.387263\n",
      "max       2.472921\n",
      "Name: update_filelist, dtype: float64\n",
      "Method                      rupdate_filelist  update_filelist\n",
      "Id                                                           \n",
      "2019-11-20 09:02:14.013464          0.000000         0.000000\n",
      "2019-11-20 09:03:10.898566          2.302672         2.304323\n"
     ]
    }
   ],
   "source": [
    "# First file list update\n",
    "print(data['update_filelist'].describe())\n",
    "print(data.sort_values(['update_filelist']).head(2))"
   ]
  },
  {
   "cell_type": "code",
   "execution_count": 7,
   "metadata": {
    "scrolled": true
   },
   "outputs": [
    {
     "name": "stdout",
     "output_type": "stream",
     "text": [
      "count    25.000000\n",
      "mean      2.274086\n",
      "std       0.476313\n",
      "min       0.000000\n",
      "25%       2.332645\n",
      "50%       2.380429\n",
      "75%       2.392749\n",
      "max       2.446791\n",
      "Name: rupdate_filelist, dtype: float64\n",
      "Method                      rupdate_filelist  update_filelist\n",
      "Id                                                           \n",
      "2019-11-20 09:02:14.013464          0.000000         0.000000\n",
      "2019-11-20 09:02:54.374877          2.280142         2.310353\n"
     ]
    }
   ],
   "source": [
    "# Second file list update\n",
    "print(data['rupdate_filelist'].describe())\n",
    "print(data.sort_values(['rupdate_filelist']).head(2))"
   ]
  },
  {
   "cell_type": "code",
   "execution_count": null,
   "metadata": {},
   "outputs": [],
   "source": []
  }
 ],
 "metadata": {
  "kernelspec": {
   "display_name": "Python 3",
   "language": "python",
   "name": "python3"
  },
  "language_info": {
   "codemirror_mode": {
    "name": "ipython",
    "version": 3
   },
   "file_extension": ".py",
   "mimetype": "text/x-python",
   "name": "python",
   "nbconvert_exporter": "python",
   "pygments_lexer": "ipython3",
   "version": "3.7.4"
  }
 },
 "nbformat": 4,
 "nbformat_minor": 1
}
